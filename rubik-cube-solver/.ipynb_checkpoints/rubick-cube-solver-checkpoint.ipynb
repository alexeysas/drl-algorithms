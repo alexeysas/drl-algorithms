{
 "cells": [
  {
   "cell_type": "code",
   "execution_count": 6,
   "metadata": {},
   "outputs": [
    {
     "name": "stdout",
     "output_type": "stream",
     "text": [
      "test\n"
     ]
    }
   ],
   "source": [
    "import enum\n",
    "print(\"test\")"
   ]
  },
  {
   "cell_type": "code",
   "execution_count": 9,
   "metadata": {},
   "outputs": [
    {
     "data": {
      "text/plain": [
       "'Hi'"
      ]
     },
     "execution_count": 9,
     "metadata": {},
     "output_type": "execute_result"
    }
   ],
   "source": [
    "\n",
    "\n",
    "class Cube2x2:\n",
    "    def Test(self):\n",
    "        return \"Hi\"\n",
    "    \n",
    "c = Cube2x2()\n",
    "\n",
    "c.Test()"
   ]
  },
  {
   "cell_type": "code",
   "execution_count": 18,
   "metadata": {},
   "outputs": [
    {
     "name": "stdout",
     "output_type": "stream",
     "text": [
      "Action.RightClock\n"
     ]
    }
   ],
   "source": [
    "class Action(enum.Enum):\n",
    "    RightClock = 0\n",
    "    LeftClock = 1\n",
    "    TopClock = 2\n",
    "    DownClock = 3\n",
    "    FrontClock = 4\n",
    "    BackClock = 5\n",
    "    RightConterClock = 6\n",
    "    LeftConterClock = 7\n",
    "    TopConterClock = 8\n",
    "    DownConterClock = 9\n",
    "    FrontConterClock = 10\n",
    "    BackConterClock = 11\n",
    "    \n",
    "    \n",
    "print(Action.RightClock)\n"
   ]
  },
  {
   "cell_type": "code",
   "execution_count": null,
   "metadata": {},
   "outputs": [],
   "source": []
  }
 ],
 "metadata": {
  "kernelspec": {
   "display_name": "drlnd",
   "language": "python",
   "name": "drlnd"
  },
  "language_info": {
   "codemirror_mode": {
    "name": "ipython",
    "version": 3
   },
   "file_extension": ".py",
   "mimetype": "text/x-python",
   "name": "python",
   "nbconvert_exporter": "python",
   "pygments_lexer": "ipython3",
   "version": "3.6.7"
  }
 },
 "nbformat": 4,
 "nbformat_minor": 2
}
